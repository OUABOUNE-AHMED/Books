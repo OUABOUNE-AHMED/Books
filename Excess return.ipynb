{
 "cells": [
  {
   "cell_type": "code",
   "execution_count": 22,
   "id": "36c5300c-9c6a-4b0f-b03b-7b1b10aa570b",
   "metadata": {},
   "outputs": [],
   "source": [
    "import yfinance as yf  \n",
    "import pandas as pd\n",
    "import datetime"
   ]
  },
  {
   "cell_type": "code",
   "execution_count": 2,
   "id": "184ee245-6956-48ed-b097-72047c5641d7",
   "metadata": {},
   "outputs": [
    {
     "name": "stdout",
     "output_type": "stream",
     "text": [
      "[*********************100%***********************]  1 of 1 completed\n",
      "[*********************100%***********************]  1 of 1 completed\n",
      "[*********************100%***********************]  1 of 1 completed\n"
     ]
    }
   ],
   "source": [
    "rate = yf.download('AAPL','2010-01-01','2022-10-04').Close/1000\n",
    "data = yf.download('^DJI','2010-01-01','2022-10-04').Close\n",
    "extend_dates = yf.download('^DJI','2009-01-01','2023-01-04').Close.index"
   ]
  },
  {
   "cell_type": "code",
   "execution_count": 3,
   "id": "deaf0388-57ab-4b62-8b53-0b71d8a5a705",
   "metadata": {},
   "outputs": [],
   "source": [
    "def excess_return(rate, il, dates):\n",
    "    eril = pd.DataFrame(columns = [\"eril\"], index= dates)\n",
    "    eril.iloc[0] = 1000\n",
    "    prev_date = dates[0]\n",
    "    for date in dates[1:]:\n",
    "        act = date - prev_date \n",
    "        #print(\n",
    "        eril.loc[date] = eril.loc[prev_date]*((il.loc[date]/il.loc[prev_date])-rate.loc[str(prev_date).split(' ')[0]] * act.days/360)\n",
    "        prev_date = date \n",
    "    return eril\n",
    "    "
   ]
  },
  {
   "cell_type": "code",
   "execution_count": 34,
   "id": "0a577934-2ade-4c5b-ba34-37cec88b2c31",
   "metadata": {},
   "outputs": [],
   "source": [
    "a = data.index[1] - data.index[0]"
   ]
  },
  {
   "cell_type": "code",
   "execution_count": 73,
   "id": "62d0fbc6-4ca8-44ff-ac25-57a7d6e4e6a5",
   "metadata": {},
   "outputs": [
    {
     "data": {
      "text/plain": [
       "'2009-12-31'"
      ]
     },
     "execution_count": 73,
     "metadata": {},
     "output_type": "execute_result"
    }
   ],
   "source": [
    "#rate.loc[str(prev_date).split(' ')[0]]\n",
    "rate.loc['2010-06-29']\n",
    "str(prev_date).split(' ')[0]"
   ]
  },
  {
   "cell_type": "code",
   "execution_count": 70,
   "id": "4acea6e6-8b54-41b8-b133-f83af35dd984",
   "metadata": {},
   "outputs": [
    {
     "data": {
      "text/plain": [
       "3211"
      ]
     },
     "execution_count": 70,
     "metadata": {},
     "output_type": "execute_result"
    }
   ],
   "source": [
    "len(rate)\n",
    "#len(data)"
   ]
  },
  {
   "cell_type": "code",
   "execution_count": 76,
   "id": "b0cae9b9-c30c-42c7-9b82-f16cc4734fef",
   "metadata": {},
   "outputs": [],
   "source": [
    "dates = data.index\n",
    "il =data \n",
    "\n",
    "eril = pd.DataFrame(columns = [\"eril\"], index= dates)\n",
    "eril.iloc[0] = 1000\n",
    "prev_date = dates[0]\n",
    "for date in dates[1:]:\n",
    "    act = date - prev_date \n",
    "    #print((il.loc[date]/il.loc[prev_date])- rate.loc[str(prev_date).split(' ')[0]])\n",
    "    eril.loc[date] = eril.loc[prev_date]*((il.loc[date]/il.loc[prev_date])-rate.loc[str(prev_date).split(' ')[0]] * act.days/360)\n",
    "    prev_date = date \n"
   ]
  },
  {
   "cell_type": "code",
   "execution_count": 25,
   "id": "445a5a55-9fa4-41da-b715-3a8d29a86ec7",
   "metadata": {},
   "outputs": [
    {
     "data": {
      "text/plain": [
       "pandas.core.indexes.datetimes.DatetimeIndex"
      ]
     },
     "execution_count": 25,
     "metadata": {},
     "output_type": "execute_result"
    }
   ],
   "source": [
    "type(extend_dates)"
   ]
  },
  {
   "cell_type": "code",
   "execution_count": 28,
   "id": "fa47f01c-5a4e-4101-8df4-bd03b66e3bd5",
   "metadata": {},
   "outputs": [
    {
     "data": {
      "text/plain": [
       "DatetimeIndex(['2008-12-31', '2009-01-02', '2009-01-05', '2009-01-06',\n",
       "               '2009-01-07', '2009-01-08', '2009-01-09', '2009-01-12',\n",
       "               '2009-01-13', '2009-01-14',\n",
       "               ...\n",
       "               '2022-12-19', '2022-12-20', '2022-12-21', '2022-12-22',\n",
       "               '2022-12-23', '2022-12-27', '2022-12-28', '2022-12-29',\n",
       "               '2022-12-30', '2023-01-03'],\n",
       "              dtype='datetime64[ns]', name='Date', length=3526, freq=None)"
      ]
     },
     "execution_count": 28,
     "metadata": {},
     "output_type": "execute_result"
    }
   ],
   "source": [
    "rate.index"
   ]
  },
  {
   "cell_type": "code",
   "execution_count": 36,
   "id": "28c55427-f6d6-4bd3-adfc-944af21af30e",
   "metadata": {},
   "outputs": [
    {
     "data": {
      "text/plain": [
       "0.007643214225769043"
      ]
     },
     "execution_count": 36,
     "metadata": {},
     "output_type": "execute_result"
    }
   ],
   "source": [
    "rate = rate.reindex(extend_dates)\n",
    "rate = rate.fillna(method=\"ffill\")\n",
    "#rate.loc['2011-01-13']\n",
    "rate"
   ]
  },
  {
   "cell_type": "code",
   "execution_count": 84,
   "id": "9dabfb76-7781-405f-939c-0904edbfdc99",
   "metadata": {},
   "outputs": [
    {
     "data": {
      "text/html": [
       "<div>\n",
       "<style scoped>\n",
       "    .dataframe tbody tr th:only-of-type {\n",
       "        vertical-align: middle;\n",
       "    }\n",
       "\n",
       "    .dataframe tbody tr th {\n",
       "        vertical-align: top;\n",
       "    }\n",
       "\n",
       "    .dataframe thead th {\n",
       "        text-align: right;\n",
       "    }\n",
       "</style>\n",
       "<table border=\"1\" class=\"dataframe\">\n",
       "  <thead>\n",
       "    <tr style=\"text-align: right;\">\n",
       "      <th></th>\n",
       "      <th>eril</th>\n",
       "    </tr>\n",
       "    <tr>\n",
       "      <th>Date</th>\n",
       "      <th></th>\n",
       "    </tr>\n",
       "  </thead>\n",
       "  <tbody>\n",
       "    <tr>\n",
       "      <th>2009-12-31</th>\n",
       "      <td>1000</td>\n",
       "    </tr>\n",
       "    <tr>\n",
       "      <th>2010-01-04</th>\n",
       "      <td>1014.867414</td>\n",
       "    </tr>\n",
       "    <tr>\n",
       "      <th>2010-01-05</th>\n",
       "      <td>1013.700931</td>\n",
       "    </tr>\n",
       "    <tr>\n",
       "      <th>2010-01-06</th>\n",
       "      <td>1013.838557</td>\n",
       "    </tr>\n",
       "    <tr>\n",
       "      <th>2010-01-07</th>\n",
       "      <td>1016.998807</td>\n",
       "    </tr>\n",
       "    <tr>\n",
       "      <th>...</th>\n",
       "      <td>...</td>\n",
       "    </tr>\n",
       "    <tr>\n",
       "      <th>2022-09-27</th>\n",
       "      <td>1476.135939</td>\n",
       "    </tr>\n",
       "    <tr>\n",
       "      <th>2022-09-28</th>\n",
       "      <td>1503.316304</td>\n",
       "    </tr>\n",
       "    <tr>\n",
       "      <th>2022-09-29</th>\n",
       "      <td>1479.488811</td>\n",
       "    </tr>\n",
       "    <tr>\n",
       "      <th>2022-09-30</th>\n",
       "      <td>1453.586707</td>\n",
       "    </tr>\n",
       "    <tr>\n",
       "      <th>2022-10-03</th>\n",
       "      <td>1490.642953</td>\n",
       "    </tr>\n",
       "  </tbody>\n",
       "</table>\n",
       "<p>3211 rows × 1 columns</p>\n",
       "</div>"
      ],
      "text/plain": [
       "                   eril\n",
       "Date                   \n",
       "2009-12-31         1000\n",
       "2010-01-04  1014.867414\n",
       "2010-01-05  1013.700931\n",
       "2010-01-06  1013.838557\n",
       "2010-01-07  1016.998807\n",
       "...                 ...\n",
       "2022-09-27  1476.135939\n",
       "2022-09-28  1503.316304\n",
       "2022-09-29  1479.488811\n",
       "2022-09-30  1453.586707\n",
       "2022-10-03  1490.642953\n",
       "\n",
       "[3211 rows x 1 columns]"
      ]
     },
     "execution_count": 84,
     "metadata": {},
     "output_type": "execute_result"
    }
   ],
   "source": [
    "excess_return(rate, data, data.index)"
   ]
  }
 ],
 "metadata": {
  "kernelspec": {
   "display_name": "Python 3 (ipykernel)",
   "language": "python",
   "name": "python3"
  },
  "language_info": {
   "codemirror_mode": {
    "name": "ipython",
    "version": 3
   },
   "file_extension": ".py",
   "mimetype": "text/x-python",
   "name": "python",
   "nbconvert_exporter": "python",
   "pygments_lexer": "ipython3",
   "version": "3.10.0"
  }
 },
 "nbformat": 4,
 "nbformat_minor": 5
}
